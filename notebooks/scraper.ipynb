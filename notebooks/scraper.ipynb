{
 "cells": [
  {
   "cell_type": "markdown",
   "id": "4d3727a38027b134",
   "metadata": {
    "collapsed": false
   },
   "source": [
    "1. Wyszukać wszystkie pliki z data/raw\n",
    "2. Dla każdego pliku podzielić na\n",
    "    a. kawałki odpowiadające firmie\n",
    "    b. wyciągnie z nich potrzebne informacje jako słownik\n",
    "    c. doda wyniki do jednej listy\n",
    "3. Z list zrobi dataframe\n",
    "4. Zapisze dataset w katalogu data/interim z aktualną datą"
   ]
  },
  {
   "cell_type": "code",
   "execution_count": 37,
   "id": "initial_id",
   "metadata": {
    "ExecuteTime": {
     "end_time": "2024-03-18T18:22:30.026585Z",
     "start_time": "2024-03-18T18:22:30.022092Z"
    },
    "collapsed": true
   },
   "outputs": [],
   "source": [
    "import os\n",
    "import re\n",
    "from decimal import Decimal\n",
    "from datetime import date\n",
    "\n",
    "import pandas as pd\n",
    "from bs4 import BeautifulSoup"
   ]
  },
  {
   "cell_type": "code",
   "execution_count": 14,
   "id": "82e42aaa3cd3ecec",
   "metadata": {
    "ExecuteTime": {
     "end_time": "2024-03-18T17:37:51.554069Z",
     "start_time": "2024-03-18T17:37:51.548857Z"
    },
    "collapsed": false
   },
   "outputs": [],
   "source": [
    "def parse_html(offer_html, job):\n",
    "    name = offer_html.select_one('.posting-title__position').text.strip()\n",
    "    company = offer_html.select_one('.company-name').text.strip()\n",
    "    technologies_html = offer_html.select('.tiles-container span:last-child')\n",
    "    technologies = [tech.text.strip() for tech in technologies_html]\n",
    "    city_raw = offer_html.select_one('nfj-posting-item-city > div:first-of-type').text.strip()\n",
    "\n",
    "    salary_raw = offer_html.select_one(\".salary\").text.strip()\n",
    "    salary_low, salary_high, currency = parse_salary(salary_raw)\n",
    "    \n",
    "    return {\n",
    "        'name': name,\n",
    "        'company': company,\n",
    "        'technology': technologies,\n",
    "        'job': job,\n",
    "        'location': parse_city(city_raw),\n",
    "        'salary': {'low': salary_low, 'high': salary_high, 'currency': currency}\n",
    "    }\n",
    "    "
   ]
  },
  {
   "cell_type": "code",
   "execution_count": 4,
   "id": "d0038b9b7a59952e",
   "metadata": {
    "ExecuteTime": {
     "end_time": "2024-03-18T17:26:49.963807Z",
     "start_time": "2024-03-18T17:26:49.959422Z"
    },
    "collapsed": false
   },
   "outputs": [],
   "source": [
    "def parse_city(city_raw):\n",
    "    remote_pattern = re.compile('(Zdalnie)')\n",
    "    city_country_pattern = re.compile(r'(\\w+)\\s*,\\s*(\\w+)')\n",
    "\n",
    "    match_remote = remote_pattern.search(city_raw)\n",
    "    match_city_country = city_country_pattern.search(city_raw)\n",
    "\n",
    "    if match_remote:\n",
    "        city = 'Zdalna'\n",
    "        country = 'N/A'\n",
    "    elif city_raw == '':\n",
    "        city = 'N/A'\n",
    "        country = 'N/A'\n",
    "    elif match_city_country:\n",
    "        city, country = match_city_country.groups()\n",
    "    else:\n",
    "        city = city_raw.split(\"+\")[0].strip()\n",
    "        country = 'PL'\n",
    "\n",
    "    return {'city': city, 'country': country}"
   ]
  },
  {
   "cell_type": "code",
   "execution_count": 28,
   "id": "68ad3e5ab815b419",
   "metadata": {
    "ExecuteTime": {
     "end_time": "2024-03-18T18:09:57.888635Z",
     "start_time": "2024-03-18T18:09:57.883758Z"
    },
    "collapsed": false
   },
   "outputs": [],
   "source": [
    "\n",
    "\n",
    "def parse_salary(salary_raw):\n",
    "    salary_parsed = salary_raw.replace(\"\\xa0\", \"–\").replace(\"–\", \"\").split()\n",
    "    if salary_parsed[0].isalpha():\n",
    "        salary_parsed = [\"0\", \"0\", \"N/A\"]\n",
    "    elif len(salary_parsed) == 2:\n",
    "        salary_parsed = [salary_parsed[0], salary_parsed[0], Decimal(salary_parsed[1])]\n",
    "\n",
    "    return Decimal(salary_parsed[0]), Decimal(salary_parsed[1]), salary_parsed[2]"
   ]
  },
  {
   "cell_type": "code",
   "execution_count": 5,
   "id": "9b2498c2aeda06c7",
   "metadata": {
    "ExecuteTime": {
     "end_time": "2024-03-18T17:26:50.644654Z",
     "start_time": "2024-03-18T17:26:50.642266Z"
    },
    "collapsed": false
   },
   "outputs": [],
   "source": [
    "def get_offers(html):\n",
    "    return html.select('.posting-list-item')\n",
    "    "
   ]
  },
  {
   "cell_type": "code",
   "execution_count": 15,
   "id": "5c7a075f993d08d6",
   "metadata": {
    "ExecuteTime": {
     "end_time": "2024-03-18T17:38:07.696885Z",
     "start_time": "2024-03-18T17:38:07.630791Z"
    },
    "collapsed": false
   },
   "outputs": [
    {
     "name": "stdout",
     "output_type": "stream",
     "text": [
      "{'name': 'Senior Data Analyst - Tech Support', 'company': 'RTB House', 'technology': ['Data', 'Python', 'SQL', 'Node.js'], 'job': 'data analyst', 'location': {'city': 'Zdalna', 'country': 'N/A'}, 'salary': {'low': 15000, 'high': 22000, 'currency': 'PLN'}}\n",
      "{'name': 'Medior/Senior Business Data Analyst / BI engineer', 'company': 'NIX Tech Kft.', 'technology': ['Business Analysis', 'Hungarian Language', 'DWH', 'SQL'], 'job': 'data analyst', 'location': {'city': 'Budapest', 'country': 'HU'}, 'salary': {'low': 5979, 'high': 11958, 'currency': 'PLN'}}\n",
      "{'name': 'Data Scientist/Data Analyst', 'company': 'Object First', 'technology': ['Data', 'Python', 'Power BI', 'Jupyter'], 'job': 'data analyst', 'location': {'city': 'Zdalna', 'country': 'N/A'}, 'salary': {'low': 24000, 'high': 36000, 'currency': 'PLN'}}\n"
     ]
    }
   ],
   "source": [
    "with open(os.path.join('..', 'data', 'raw', 'data_analyst_20240311_204547.html')) as file:\n",
    "    soup = BeautifulSoup(file, 'html.parser')\n",
    "    job = file.name.rsplit('/')[-1].split('_20')[0].replace('_', ' ')\n",
    "    \n",
    "    offers_html = get_offers(soup)\n",
    "    print(parse_html(offers_html[0], job))\n",
    "    print(parse_html(offers_html[10], job))\n",
    "    print(parse_html(offers_html[11], job))\n",
    "    "
   ]
  },
  {
   "cell_type": "code",
   "execution_count": null,
   "id": "f0a1743f78f3c089",
   "metadata": {
    "collapsed": false
   },
   "outputs": [],
   "source": []
  },
  {
   "cell_type": "code",
   "execution_count": 31,
   "id": "889ccb4e759448c6",
   "metadata": {
    "ExecuteTime": {
     "end_time": "2024-03-18T18:10:47.933322Z",
     "start_time": "2024-03-18T18:10:47.930854Z"
    },
    "collapsed": false
   },
   "outputs": [],
   "source": [
    "def process_data(path):\n",
    "    results = []\n",
    "    \n",
    "    for entry in os.scandir(path):\n",
    "        with open(os.path.join(path, entry.name), encoding='UTF-8') as file:\n",
    "            soup = BeautifulSoup(file, 'html.parser')\n",
    "            job = file.name.rsplit('/')[-1].split('_20')[0].replace('_', ' ')\n",
    "\n",
    "            offers_html = get_offers(soup)\n",
    "            \n",
    "            for offer in offers_html:\n",
    "                results.append(parse_html(offer, job))\n",
    "                \n",
    "    return results\n",
    "            "
   ]
  },
  {
   "cell_type": "code",
   "execution_count": 18,
   "id": "75620055b96751a6",
   "metadata": {
    "ExecuteTime": {
     "end_time": "2024-03-18T17:48:17.519371Z",
     "start_time": "2024-03-18T17:48:17.516279Z"
    },
    "collapsed": false
   },
   "outputs": [],
   "source": [
    "path = os.path.join('..', 'data', 'raw')"
   ]
  },
  {
   "cell_type": "code",
   "execution_count": 33,
   "id": "2fe2e2d37fa5eb42",
   "metadata": {
    "ExecuteTime": {
     "end_time": "2024-03-18T18:13:45.746997Z",
     "start_time": "2024-03-18T18:13:45.509462Z"
    },
    "collapsed": false
   },
   "outputs": [],
   "source": [
    "job_offers = process_data(path)"
   ]
  },
  {
   "cell_type": "code",
   "execution_count": 35,
   "id": "39a7773b99057307",
   "metadata": {
    "ExecuteTime": {
     "end_time": "2024-03-18T18:16:07.069167Z",
     "start_time": "2024-03-18T18:16:07.054790Z"
    },
    "collapsed": false
   },
   "outputs": [
    {
     "data": {
      "text/html": [
       "<div>\n",
       "<style scoped>\n",
       "    .dataframe tbody tr th:only-of-type {\n",
       "        vertical-align: middle;\n",
       "    }\n",
       "\n",
       "    .dataframe tbody tr th {\n",
       "        vertical-align: top;\n",
       "    }\n",
       "\n",
       "    .dataframe thead th {\n",
       "        text-align: right;\n",
       "    }\n",
       "</style>\n",
       "<table border=\"1\" class=\"dataframe\">\n",
       "  <thead>\n",
       "    <tr style=\"text-align: right;\">\n",
       "      <th></th>\n",
       "      <th>name</th>\n",
       "      <th>company</th>\n",
       "      <th>technology</th>\n",
       "      <th>job</th>\n",
       "      <th>location.city</th>\n",
       "      <th>location.country</th>\n",
       "      <th>salary.low</th>\n",
       "      <th>salary.high</th>\n",
       "      <th>salary.currency</th>\n",
       "    </tr>\n",
       "  </thead>\n",
       "  <tbody>\n",
       "    <tr>\n",
       "      <th>0</th>\n",
       "      <td>Senior Data Engineer</td>\n",
       "      <td>Showpad</td>\n",
       "      <td>[Data, SQL, Data Lake, Python]</td>\n",
       "      <td>data engineer</td>\n",
       "      <td>Wroclaw</td>\n",
       "      <td>PL</td>\n",
       "      <td>22000</td>\n",
       "      <td>30000</td>\n",
       "      <td>PLN</td>\n",
       "    </tr>\n",
       "    <tr>\n",
       "      <th>1</th>\n",
       "      <td>Senior Data Engineer - Remote</td>\n",
       "      <td>Link Group</td>\n",
       "      <td>[Data, SQL, Data pipelines, Cloud computing]</td>\n",
       "      <td>data engineer</td>\n",
       "      <td>Zdalna</td>\n",
       "      <td>N/A</td>\n",
       "      <td>26880</td>\n",
       "      <td>31920</td>\n",
       "      <td>PLN</td>\n",
       "    </tr>\n",
       "    <tr>\n",
       "      <th>2</th>\n",
       "      <td>Snowflake Data Engineer</td>\n",
       "      <td>GTV POLAND</td>\n",
       "      <td>[Data, Snowflake, ETL, Python]</td>\n",
       "      <td>data engineer</td>\n",
       "      <td>Zdalna</td>\n",
       "      <td>N/A</td>\n",
       "      <td>14000</td>\n",
       "      <td>18000</td>\n",
       "      <td>PLN</td>\n",
       "    </tr>\n",
       "    <tr>\n",
       "      <th>3</th>\n",
       "      <td>Data Engineer</td>\n",
       "      <td>Finture</td>\n",
       "      <td>[Data, Bash, GCP, Storage]</td>\n",
       "      <td>data engineer</td>\n",
       "      <td>Warszawa</td>\n",
       "      <td>PL</td>\n",
       "      <td>20000</td>\n",
       "      <td>27000</td>\n",
       "      <td>PLN</td>\n",
       "    </tr>\n",
       "    <tr>\n",
       "      <th>4</th>\n",
       "      <td>Senior Data Engineer (Azure)</td>\n",
       "      <td>GetInData | Part of Xebia</td>\n",
       "      <td>[Data, Microsoft azure, Python, SQL]</td>\n",
       "      <td>data engineer</td>\n",
       "      <td>Zdalna</td>\n",
       "      <td>N/A</td>\n",
       "      <td>26880</td>\n",
       "      <td>33600</td>\n",
       "      <td>PLN</td>\n",
       "    </tr>\n",
       "    <tr>\n",
       "      <th>...</th>\n",
       "      <td>...</td>\n",
       "      <td>...</td>\n",
       "      <td>...</td>\n",
       "      <td>...</td>\n",
       "      <td>...</td>\n",
       "      <td>...</td>\n",
       "      <td>...</td>\n",
       "      <td>...</td>\n",
       "      <td>...</td>\n",
       "    </tr>\n",
       "    <tr>\n",
       "      <th>114</th>\n",
       "      <td>DevOps Engineer (DataOps)</td>\n",
       "      <td>Avenga</td>\n",
       "      <td>[DevOps, Data analyst, Python, SQL]</td>\n",
       "      <td>data analyst</td>\n",
       "      <td>Zdalna</td>\n",
       "      <td>N/A</td>\n",
       "      <td>27720</td>\n",
       "      <td>31080</td>\n",
       "      <td>PLN</td>\n",
       "    </tr>\n",
       "    <tr>\n",
       "      <th>115</th>\n",
       "      <td>Data Engineer</td>\n",
       "      <td>Avenga</td>\n",
       "      <td>[Business Intelligence, Data analyst, BI, ETL]</td>\n",
       "      <td>data analyst</td>\n",
       "      <td>Warszawa</td>\n",
       "      <td>PL</td>\n",
       "      <td>25200</td>\n",
       "      <td>31080</td>\n",
       "      <td>PLN</td>\n",
       "    </tr>\n",
       "    <tr>\n",
       "      <th>116</th>\n",
       "      <td>Data Engineer</td>\n",
       "      <td>Profitroom</td>\n",
       "      <td>[Data, Data analyst, Spark, Data engineering]</td>\n",
       "      <td>data analyst</td>\n",
       "      <td>Zdalna</td>\n",
       "      <td>N/A</td>\n",
       "      <td>14900</td>\n",
       "      <td>21400</td>\n",
       "      <td>PLN</td>\n",
       "    </tr>\n",
       "    <tr>\n",
       "      <th>117</th>\n",
       "      <td>Inżynier / Analityk danych</td>\n",
       "      <td>Dogtronic Solutions</td>\n",
       "      <td>[Data, Data analyst, SQL, BigQuery]</td>\n",
       "      <td>data analyst</td>\n",
       "      <td>Warszawa</td>\n",
       "      <td>PL</td>\n",
       "      <td>19950</td>\n",
       "      <td>28350</td>\n",
       "      <td>PLN</td>\n",
       "    </tr>\n",
       "    <tr>\n",
       "      <th>118</th>\n",
       "      <td>Data Engineer (Trust Assurance)</td>\n",
       "      <td>Allegro</td>\n",
       "      <td>[Data, Data analyst, SQL, Python]</td>\n",
       "      <td>data analyst</td>\n",
       "      <td>Warszawa</td>\n",
       "      <td>PL</td>\n",
       "      <td>12300</td>\n",
       "      <td>17600</td>\n",
       "      <td>PLN</td>\n",
       "    </tr>\n",
       "  </tbody>\n",
       "</table>\n",
       "<p>119 rows × 9 columns</p>\n",
       "</div>"
      ],
      "text/plain": [
       "                                name                    company  \\\n",
       "0               Senior Data Engineer                    Showpad   \n",
       "1      Senior Data Engineer - Remote                 Link Group   \n",
       "2            Snowflake Data Engineer                 GTV POLAND   \n",
       "3                      Data Engineer                    Finture   \n",
       "4       Senior Data Engineer (Azure)  GetInData | Part of Xebia   \n",
       "..                               ...                        ...   \n",
       "114        DevOps Engineer (DataOps)                     Avenga   \n",
       "115                    Data Engineer                     Avenga   \n",
       "116                    Data Engineer                 Profitroom   \n",
       "117       Inżynier / Analityk danych        Dogtronic Solutions   \n",
       "118  Data Engineer (Trust Assurance)                    Allegro   \n",
       "\n",
       "                                         technology            job  \\\n",
       "0                    [Data, SQL, Data Lake, Python]  data engineer   \n",
       "1      [Data, SQL, Data pipelines, Cloud computing]  data engineer   \n",
       "2                    [Data, Snowflake, ETL, Python]  data engineer   \n",
       "3                        [Data, Bash, GCP, Storage]  data engineer   \n",
       "4              [Data, Microsoft azure, Python, SQL]  data engineer   \n",
       "..                                              ...            ...   \n",
       "114             [DevOps, Data analyst, Python, SQL]   data analyst   \n",
       "115  [Business Intelligence, Data analyst, BI, ETL]   data analyst   \n",
       "116   [Data, Data analyst, Spark, Data engineering]   data analyst   \n",
       "117             [Data, Data analyst, SQL, BigQuery]   data analyst   \n",
       "118               [Data, Data analyst, SQL, Python]   data analyst   \n",
       "\n",
       "    location.city location.country salary.low salary.high salary.currency  \n",
       "0         Wroclaw               PL      22000       30000             PLN  \n",
       "1          Zdalna              N/A      26880       31920             PLN  \n",
       "2          Zdalna              N/A      14000       18000             PLN  \n",
       "3        Warszawa               PL      20000       27000             PLN  \n",
       "4          Zdalna              N/A      26880       33600             PLN  \n",
       "..            ...              ...        ...         ...             ...  \n",
       "114        Zdalna              N/A      27720       31080             PLN  \n",
       "115      Warszawa               PL      25200       31080             PLN  \n",
       "116        Zdalna              N/A      14900       21400             PLN  \n",
       "117      Warszawa               PL      19950       28350             PLN  \n",
       "118      Warszawa               PL      12300       17600             PLN  \n",
       "\n",
       "[119 rows x 9 columns]"
      ]
     },
     "execution_count": 35,
     "metadata": {},
     "output_type": "execute_result"
    }
   ],
   "source": [
    "df = pd.json_normalize(job_offers)\n",
    "df"
   ]
  },
  {
   "cell_type": "code",
   "execution_count": 39,
   "id": "9d00d7759ede6d85",
   "metadata": {
    "ExecuteTime": {
     "end_time": "2024-03-18T20:08:34.573111Z",
     "start_time": "2024-03-18T20:08:34.540477Z"
    },
    "collapsed": false
   },
   "outputs": [
    {
     "ename": "AttributeError",
     "evalue": "'str' object has no attribute 'today'",
     "output_type": "error",
     "traceback": [
      "\u001b[0;31m---------------------------------------------------------------------------\u001b[0m",
      "\u001b[0;31mAttributeError\u001b[0m                            Traceback (most recent call last)",
      "Cell \u001b[0;32mIn[39], line 1\u001b[0m\n\u001b[0;32m----> 1\u001b[0m date_ \u001b[38;5;241m=\u001b[39m \u001b[43mdate\u001b[49m\u001b[38;5;241;43m.\u001b[39;49m\u001b[43mtoday\u001b[49m()\u001b[38;5;241m.\u001b[39mstrftime(\u001b[38;5;124m\"\u001b[39m\u001b[38;5;124m%\u001b[39m\u001b[38;5;124mY_\u001b[39m\u001b[38;5;124m%\u001b[39m\u001b[38;5;124mm_\u001b[39m\u001b[38;5;132;01m%d\u001b[39;00m\u001b[38;5;124m\"\u001b[39m)\n\u001b[1;32m      2\u001b[0m df\u001b[38;5;241m.\u001b[39mto_csv(os\u001b[38;5;241m.\u001b[39mpath\u001b[38;5;241m.\u001b[39mjoin(\u001b[38;5;124m'\u001b[39m\u001b[38;5;124m..\u001b[39m\u001b[38;5;124m'\u001b[39m, \u001b[38;5;124m'\u001b[39m\u001b[38;5;124mdata\u001b[39m\u001b[38;5;124m'\u001b[39m, \u001b[38;5;124m'\u001b[39m\u001b[38;5;124minterim\u001b[39m\u001b[38;5;124m'\u001b[39m, \u001b[38;5;124mf\u001b[39m\u001b[38;5;124m'\u001b[39m\u001b[38;5;124mjob_offers_\u001b[39m\u001b[38;5;132;01m{\u001b[39;00mdate_\u001b[38;5;132;01m}\u001b[39;00m\u001b[38;5;124m.csv\u001b[39m\u001b[38;5;124m'\u001b[39m), sep\u001b[38;5;241m=\u001b[39m\u001b[38;5;124m'\u001b[39m\u001b[38;5;124m;\u001b[39m\u001b[38;5;124m'\u001b[39m, index\u001b[38;5;241m=\u001b[39m\u001b[38;5;28;01mFalse\u001b[39;00m)\n",
      "\u001b[0;31mAttributeError\u001b[0m: 'str' object has no attribute 'today'"
     ]
    }
   ],
   "source": [
    "date_ = date.today().strftime(\"%Y_%m_%d\")\n",
    "df.to_csv(os.path.join('..', 'data', 'interim', f'job_offers_{date_}.csv'), sep=';', index=False)"
   ]
  },
  {
   "cell_type": "code",
   "execution_count": null,
   "id": "5bca4ecfcc632407",
   "metadata": {
    "collapsed": false
   },
   "outputs": [],
   "source": []
  }
 ],
 "metadata": {
  "kernelspec": {
   "display_name": "Python 3",
   "language": "python",
   "name": "python3"
  },
  "language_info": {
   "codemirror_mode": {
    "name": "ipython",
    "version": 2
   },
   "file_extension": ".py",
   "mimetype": "text/x-python",
   "name": "python",
   "nbconvert_exporter": "python",
   "pygments_lexer": "ipython2",
   "version": "2.7.6"
  }
 },
 "nbformat": 4,
 "nbformat_minor": 5
}
