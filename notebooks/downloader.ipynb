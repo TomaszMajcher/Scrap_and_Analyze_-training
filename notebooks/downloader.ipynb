{
 "cells": [
  {
   "cell_type": "code",
   "execution_count": 65,
   "id": "initial_id",
   "metadata": {
    "collapsed": true,
    "ExecuteTime": {
     "end_time": "2024-03-11T19:43:07.545151Z",
     "start_time": "2024-03-11T19:43:07.539534Z"
    }
   },
   "outputs": [],
   "source": [
    "from selenium import webdriver\n",
    "from selenium.webdriver.common.keys import Keys\n",
    "from selenium.webdriver.common.by import By\n",
    "from selenium.common.exceptions import NoSuchElementException\n",
    "from time import sleep\n",
    "from pprint import pprint as pp\n",
    "import os\n",
    "from datetime import datetime\n"
   ]
  },
  {
   "cell_type": "code",
   "outputs": [],
   "source": [
    "def get_html(driver, position):\n",
    "    url = f'https://nofluffjobs.com/pl/?criteria=keyword%3D%27{position}%27&page=1'\n",
    "    driver.get(url)\n",
    "    driver.implicitly_wait(5)\n",
    "    close_cookie_modal(driver)\n",
    "    sleep(5)\n",
    "    close_country_select(driver)\n",
    "    \n",
    "    counter = 0\n",
    "    \n",
    "    while True:\n",
    "        counter += 1\n",
    "        try: \n",
    "            sleep(2)\n",
    "            driver.find_element(By.CSS_SELECTOR, '.tw-px-8').click()\n",
    "            print(counter)\n",
    "        except NoSuchElementException:\n",
    "            print('No more job offers')\n",
    "            break\n",
    "    \n",
    "    return driver.page_source\n",
    "\n"
   ],
   "metadata": {
    "collapsed": false,
    "ExecuteTime": {
     "end_time": "2024-03-11T19:43:07.727730Z",
     "start_time": "2024-03-11T19:43:07.724333Z"
    }
   },
   "id": "43f24e0f140d87",
   "execution_count": 66
  },
  {
   "cell_type": "code",
   "outputs": [],
   "source": [
    "def close_cookie_modal(driver):\n",
    "    try: \n",
    "        cookie_btn = driver.find_element(By.CSS_SELECTOR, '#onetrust-accept-btn-handler')\n",
    "        cookie_btn.click()\n",
    "    except NoSuchElementException:\n",
    "        print('No cookies found')"
   ],
   "metadata": {
    "collapsed": false,
    "ExecuteTime": {
     "end_time": "2024-03-11T19:43:08.232056Z",
     "start_time": "2024-03-11T19:43:08.229540Z"
    }
   },
   "id": "632a370b2d91d5b2",
   "execution_count": 67
  },
  {
   "cell_type": "code",
   "outputs": [],
   "source": [
    "def close_country_select(driver):\n",
    "    try:\n",
    "        driver.find_element(By.CSS_SELECTOR, '#mat-dialog-0 > div > div > div > div.info-hard__region-picker.mt-1.mt-sm-5 > div.row > div:nth-child(1) > button').click()\n",
    "        driver.find_element(By.CSS_SELECTOR, '#mat-dialog-0 > div > div > div > div.info-hard__region-picker.mt-1.mt-sm-5 > div.tw-flex.tw-justify-center.mt-3.mt-sm-4 > button.tw-btn.tw-btn-xl.tw-btn-primary.mn-3').click()\n",
    "    except NoSuchElementException:\n",
    "        print('No country selector')\n",
    "        "
   ],
   "metadata": {
    "collapsed": false,
    "ExecuteTime": {
     "end_time": "2024-03-11T19:43:08.798923Z",
     "start_time": "2024-03-11T19:43:08.796731Z"
    }
   },
   "id": "a785fb81a75d536b",
   "execution_count": 68
  },
  {
   "cell_type": "code",
   "outputs": [],
   "source": [
    "def download_html(html, position):\n",
    "    dt = datetime.now().strftime(\"%Y%m%d_%H%M%S\")\n",
    "    position = position.replace(\" \", \"_\")\n",
    "    file_name = f'{position}_{dt}.html'\n",
    "\n",
    "    with open(os.path.join('..', 'data', 'raw', file_name), 'w') as file:\n",
    "        file.write(str(html))\n",
    "    \n",
    "    print(f'File saved {file_name}')\n",
    "        "
   ],
   "metadata": {
    "collapsed": false,
    "ExecuteTime": {
     "end_time": "2024-03-11T19:43:09.128368Z",
     "start_time": "2024-03-11T19:43:09.126048Z"
    }
   },
   "id": "43a1ad1e8d5ac3aa",
   "execution_count": 69
  },
  {
   "cell_type": "code",
   "outputs": [
    {
     "name": "stdout",
     "output_type": "stream",
     "text": [
      "1\n",
      "No more job offers\n",
      "File saved data_analyst_20240311_204547.html\n",
      "No cookies found\n",
      "No country selector\n",
      "1\n",
      "2\n",
      "3\n",
      "No more job offers\n",
      "File saved data_engineer_20240311_204617.html\n",
      "No cookies found\n",
      "No country selector\n",
      "1\n",
      "No more job offers\n",
      "File saved data_scientist_20240311_204643.html\n"
     ]
    }
   ],
   "source": [
    "driver = webdriver.Firefox()\n",
    "driver.set_window_size(1200, 800)\n",
    "\n",
    "positions = ['data analyst', 'data engineer', 'data scientist']\n",
    "\n",
    "for position in positions:\n",
    "    html = get_html(driver, position)\n",
    "    download_html(html, position)\n",
    "\n",
    "driver.close()"
   ],
   "metadata": {
    "collapsed": false,
    "ExecuteTime": {
     "end_time": "2024-03-11T19:46:43.859580Z",
     "start_time": "2024-03-11T19:45:30.032652Z"
    }
   },
   "id": "b3d715d495b2f6a0",
   "execution_count": 71
  },
  {
   "cell_type": "code",
   "outputs": [],
   "source": [],
   "metadata": {
    "collapsed": false
   },
   "id": "7cd4515117bb30ab"
  }
 ],
 "metadata": {
  "kernelspec": {
   "display_name": "Python 3",
   "language": "python",
   "name": "python3"
  },
  "language_info": {
   "codemirror_mode": {
    "name": "ipython",
    "version": 2
   },
   "file_extension": ".py",
   "mimetype": "text/x-python",
   "name": "python",
   "nbconvert_exporter": "python",
   "pygments_lexer": "ipython2",
   "version": "2.7.6"
  }
 },
 "nbformat": 4,
 "nbformat_minor": 5
}
